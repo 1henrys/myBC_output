{
 "cells": [
  {
   "cell_type": "code",
   "execution_count": 9,
   "metadata": {},
   "outputs": [],
   "source": [
    "from constants import *\n",
    "from dotenv import load_dotenv\n",
    "import os\n",
    "import subprocess\n",
    "import json"
   ]
  },
  {
   "cell_type": "code",
   "execution_count": 10,
   "metadata": {},
   "outputs": [
    {
     "name": "stdout",
     "output_type": "stream",
     "text": [
      "was manually entered here as a first test but bummer not workee\n"
     ]
    }
   ],
   "source": [
    "#mnemonic = os.getenv('BCS_MNEMONIC')\n",
    "mnemonic = \"was manually entered here as a first test but bummer not workee\"\n",
    "print(mnemonic)"
   ]
  },
  {
   "cell_type": "code",
   "execution_count": 11,
   "metadata": {},
   "outputs": [],
   "source": [
    "#command = f'./derive -g --mnemonic=\"{mnemonic}\" --coin=eth --cols=path,address,privkey,pubkey --format=json'\n",
    "# trying win version\n",
    "command = f'php derive -g --mnemonic={mnemonic} --coin=eth --cols=path,address,privkey,pubkey --format=json'"
   ]
  },
  {
   "cell_type": "code",
   "execution_count": 12,
   "metadata": {},
   "outputs": [
    {
     "name": "stdout",
     "output_type": "stream",
     "text": [
      "b\"\\nWarning: require_once(C:\\\\Users\\\\Henry\\\\BootCamp\\\\myBC_output\\\\python-blockchain-homework\\\\wallet/vendor/autoload.php): failed to open stream: No such file or directory in C:\\\\Users\\\\Henry\\\\BootCamp\\\\myBC_output\\\\python-blockchain-homework\\\\wallet\\\\derive on line 11\\n\\nFatal error: require_once(): Failed opening required 'C:\\\\Users\\\\Henry\\\\BootCamp\\\\myBC_output\\\\python-blockchain-homework\\\\wallet/vendor/autoload.php' (include_path='C:\\\\xampp\\\\php\\\\PEAR') in C:\\\\Users\\\\Henry\\\\BootCamp\\\\myBC_output\\\\python-blockchain-homework\\\\wallet\\\\derive on line 11\\n\"\n"
     ]
    }
   ],
   "source": [
    "p = subprocess.Popen(command, stdout=subprocess.PIPE, shell=True)\n",
    "output, err = p.communicate()\n",
    "p_status = p.wait()\n",
    "print(output)\n",
    "#keys = json.loads(output)"
   ]
  },
  {
   "cell_type": "code",
   "execution_count": null,
   "metadata": {},
   "outputs": [],
   "source": []
  }
 ],
 "metadata": {
  "kernelspec": {
   "display_name": "Python 3",
   "language": "python",
   "name": "python3"
  },
  "language_info": {
   "codemirror_mode": {
    "name": "ipython",
    "version": 3
   },
   "file_extension": ".py",
   "mimetype": "text/x-python",
   "name": "python",
   "nbconvert_exporter": "python",
   "pygments_lexer": "ipython3",
   "version": "3.7.9"
  }
 },
 "nbformat": 4,
 "nbformat_minor": 4
}
